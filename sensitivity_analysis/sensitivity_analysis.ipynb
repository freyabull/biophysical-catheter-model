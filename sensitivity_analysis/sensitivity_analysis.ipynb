{
 "cells": [
  {
   "cell_type": "code",
   "execution_count": null,
   "metadata": {},
   "outputs": [],
   "source": [
    "from SALib.sample import saltelli\n",
    "from SALib.analyze import sobol\n",
    "from SALib import ProblemSpec\n",
    "import numpy as np\n",
    "import matplotlib.pyplot as plt\n",
    "import seaborn as sns\n",
    "sns.set_style('ticks')"
   ]
  },
  {
   "cell_type": "markdown",
   "metadata": {},
   "source": [
    "# Generate model inputs\n",
    "Initially from uniform distributions"
   ]
  },
  {
   "cell_type": "code",
   "execution_count": null,
   "metadata": {},
   "outputs": [],
   "source": [
    "problem = {\n",
    "    'num_vars': 10,\n",
    "    'names': ['$L$', '$V$', '$\\lambda$', '$R$', '$D_S$', '$D_B$', '$r_S$', '$r_B$', '$k_S$', '$k_B$'],\n",
    "    'bounds': [[40, 160], #L\n",
    "               [1e4, 10e4], #V\n",
    "               [5, 50], #lambda\n",
    "               [0.5,2], #R\n",
    "               [1e-8, 1e-3], #DS\n",
    "               [1e-5,1e-3], #DB\n",
    "               [1e-6,1e-3], #rS\n",
    "               [1e-6,1e-3], #rB\n",
    "               [1e5,1e8], #kS\n",
    "               [1e4,1e7] #kB\n",
    "               ],\n",
    "    'dists': ['unif', 'unif','unif', 'unif','logunif','logunif','logunif','logunif','logunif','logunif'],\n",
    "    'outputs' : ['ss_bac', 'time_b']\n",
    "}\n"
   ]
  },
  {
   "cell_type": "code",
   "execution_count": null,
   "metadata": {},
   "outputs": [],
   "source": [
    "param_values = saltelli.sample(problem, 1024)\n",
    "print(param_values.shape, param_values[0])\n",
    "np.savetxt(\"saltelli_params.txt\", param_values)"
   ]
  },
  {
   "cell_type": "code",
   "execution_count": null,
   "metadata": {},
   "outputs": [],
   "source": [
    "plt.rcParams['figure.figsize'] = (12,3)\n",
    "fig,ax = plt.subplots(1,5)\n",
    "[ax[i].ticklabel_format(axis='both', style='sci', scilimits=(0,0)) for i in range(5)]\n",
    "ax[0].scatter([param[0] for param in param_values],[param[1] for param in param_values],s=1)\n",
    "ax[1].scatter([param[2] for param in param_values],[param[3] for param in param_values],s=1)\n",
    "ax[2].scatter([param[4] for param in param_values],[param[5] for param in param_values],s=1)\n",
    "ax[3].scatter([param[6] for param in param_values],[param[7] for param in param_values],s=1)\n",
    "ax[3].set_xscale('log')\n",
    "ax[3].set_yscale('log')\n",
    "ax[4].scatter([param[8] for param in param_values],[param[9] for param in param_values],s=1)\n",
    "plt.tight_layout()"
   ]
  },
  {
   "cell_type": "code",
   "execution_count": null,
   "metadata": {},
   "outputs": [],
   "source": [
    "param_values = saltelli.sample(problem, 2048)\n",
    "print(param_values.shape, param_values[0])\n",
    "np.savetxt(\"saltelli_params2.txt\", param_values)"
   ]
  },
  {
   "cell_type": "code",
   "execution_count": null,
   "metadata": {},
   "outputs": [],
   "source": [
    "param_values = saltelli.sample(problem, 4096)\n",
    "print(param_values.shape, param_values[0])\n",
    "np.savetxt(\"saltelli_params3.txt\", param_values)"
   ]
  },
  {
   "cell_type": "code",
   "execution_count": null,
   "metadata": {},
   "outputs": [],
   "source": [
    "param_values = saltelli.sample(problem, 8192)\n",
    "print(param_values.shape, param_values[0])\n",
    "np.savetxt(\"saltelli_params4.txt\", param_values)"
   ]
  },
  {
   "cell_type": "code",
   "execution_count": null,
   "metadata": {},
   "outputs": [],
   "source": [
    "param_values = saltelli.sample(problem, 16384)\n",
    "print(param_values.shape, param_values[0])\n",
    "np.savetxt(\"saltelli_params5.txt\", param_values)"
   ]
  },
  {
   "cell_type": "markdown",
   "metadata": {},
   "source": [
    "# Load model outputs"
   ]
  },
  {
   "cell_type": "code",
   "execution_count": null,
   "metadata": {},
   "outputs": [],
   "source": [
    "Y1_1024 = np.loadtxt(\"model_output_1024/output_ss_bac.txt\", float)\n",
    "Y2_1024 = np.loadtxt(\"model_output_1024/output_time_b.txt\", float)\n",
    "\n",
    "sp_1024 = ProblemSpec(problem)\n",
    "sp_1024.sample_sobol(1024)\n",
    "sp_1024.set_results(np.stack((Y1_1024, Y2_1024), axis=1))\n",
    "sp_1024.analyze_sobol()"
   ]
  },
  {
   "cell_type": "code",
   "execution_count": null,
   "metadata": {},
   "outputs": [],
   "source": [
    "axes = sp_1024.plot()\n",
    "axes[0][0].set_yscale('log')\n",
    "fig = plt.gcf() "
   ]
  },
  {
   "cell_type": "code",
   "execution_count": null,
   "metadata": {},
   "outputs": [],
   "source": [
    "Y1_2048 = np.loadtxt(\"model_output_2048/output_ss_bac.txt\", float)\n",
    "Y2_2048 = np.loadtxt(\"model_output_2048/output_time_b.txt\", float)\n",
    "\n",
    "sp_2048 = ProblemSpec(problem)\n",
    "sp_2048.sample_sobol(2048)\n",
    "sp_2048.set_results(np.stack((Y1_2048, Y2_2048), axis=1))\n",
    "sp_2048.analyze_sobol()"
   ]
  },
  {
   "cell_type": "code",
   "execution_count": null,
   "metadata": {},
   "outputs": [],
   "source": [
    "axes = sp_2048.plot()\n",
    "axes[0][0].set_yscale('log')\n",
    "fig = plt.gcf() "
   ]
  },
  {
   "cell_type": "code",
   "execution_count": null,
   "metadata": {},
   "outputs": [],
   "source": [
    "Y1_4096 = np.loadtxt(\"model_output_4096/output_ss_bac.txt\", float)\n",
    "Y2_4096 = np.loadtxt(\"model_output_4096/output_time_b.txt\", float)\n",
    "\n",
    "sp_4096 = ProblemSpec(problem)\n",
    "sp_4096.sample_sobol(4096)\n",
    "sp_4096.set_results(np.stack((Y1_4096, Y2_4096), axis=1))\n",
    "sp_4096.analyze_sobol()"
   ]
  },
  {
   "cell_type": "code",
   "execution_count": null,
   "metadata": {},
   "outputs": [],
   "source": [
    "axes = sp_4096.plot()\n",
    "axes[0][0].set_yscale('log')\n",
    "fig = plt.gcf() "
   ]
  },
  {
   "cell_type": "code",
   "execution_count": null,
   "metadata": {},
   "outputs": [],
   "source": [
    "Y1_8192 = np.loadtxt(\"model_output_8192/ss_bac.txt\", float)\n",
    "Y2_8192 = np.loadtxt(\"model_output_8192/time_b.txt\", float)\n",
    "\n",
    "sp_8192 = ProblemSpec(problem)\n",
    "sp_8192.sample_sobol(8192)\n",
    "sp_8192.set_results(np.stack((Y1_8192, Y2_8192), axis=1))\n",
    "sp_8192.analyze_sobol()"
   ]
  },
  {
   "cell_type": "code",
   "execution_count": null,
   "metadata": {},
   "outputs": [],
   "source": [
    "axes = sp_8192.plot()\n",
    "axes[0][0].set_yscale('log')\n",
    "fig = plt.gcf() "
   ]
  },
  {
   "cell_type": "code",
   "execution_count": null,
   "metadata": {},
   "outputs": [],
   "source": [
    "Y1_16384 = np.loadtxt(\"model_output_16384/ss_bac.txt\", float)\n",
    "Y2_16384 = np.loadtxt(\"model_output_16384/time_b.txt\", float)\n",
    "\n",
    "sp_16384 = ProblemSpec(problem)\n",
    "sp_16384.sample_sobol(16384)\n",
    "sp_16384.set_results(np.stack((Y1_16384, Y2_16384), axis=1))\n",
    "sp_16384.analyze_sobol()"
   ]
  },
  {
   "cell_type": "code",
   "execution_count": null,
   "metadata": {},
   "outputs": [],
   "source": [
    "axes = sp_16384.plot()\n",
    "axes[0][0].set_yscale('log')\n",
    "fig = plt.gcf() "
   ]
  },
  {
   "cell_type": "markdown",
   "metadata": {},
   "source": [
    "# Visualise results"
   ]
  },
  {
   "cell_type": "code",
   "execution_count": null,
   "metadata": {},
   "outputs": [],
   "source": [
    "plt.rcParams['figure.figsize'] = (8,5)\n",
    "fig,ax = plt.subplots(2,5, sharey=True)\n",
    "\n",
    "\n",
    "ax[0][0].scatter(sp_16384.samples[:,0], sp_16384.results[:,0],s=0.1)\n",
    "ax[0][0].set_xlabel('$L$ (mm)')\n",
    "\n",
    "ax[0][1].scatter(sp_16384.samples[:,1], sp_16384.results[:,0],s=0.1)\n",
    "ax[0][1].set_xlabel('$V$ (mm$^{3}$)')\n",
    "ax[0][1].ticklabel_format(style='sci', axis='x', scilimits=(0,0))\n",
    "\n",
    "ax[0][2].scatter(sp_16384.samples[:,2], sp_16384.results[:,0],s=0.1)\n",
    "ax[0][2].set_xlabel('$\\lambda$ (mm$^3$s$^{-1}$)')\n",
    "\n",
    "ax[0][3].scatter(sp_16384.samples[:,3], sp_16384.results[:,0],s=0.1)\n",
    "ax[0][3].set_xlabel('$R$ (mm)')\n",
    "\n",
    "ax[0][4].scatter(sp_16384.samples[:,4], sp_16384.results[:,0],s=0.1)\n",
    "ax[0][4].set_xlabel('$D_S$ (mm$^2$s$^{-1}$)')\n",
    "ax[0][4].set_xscale('log')\n",
    "\n",
    "ax[1][0].scatter(sp_16384.samples[:,5], sp_16384.results[:,0],s=0.1)\n",
    "ax[1][0].set_xlabel('$D_B$ (mm$^2$s$^{-1}$)')\n",
    "ax[1][0].set_xscale('log')\n",
    "\n",
    "ax[1][1].scatter(sp_16384.samples[:,6], sp_16384.results[:,0],s=0.1)\n",
    "ax[1][1].set_xlabel('$r_S$ (s$^{-1}$)')\n",
    "ax[1][1].set_xscale('log')\n",
    "\n",
    "ax[1][2].scatter(sp_16384.samples[:,7], sp_16384.results[:,0],s=0.1)\n",
    "ax[1][2].set_xlabel('$r_B$ (s$^{-1}$)')\n",
    "ax[1][2].set_xscale('log')\n",
    "\n",
    "ax[1][3].scatter(sp_16384.samples[:,8], sp_16384.results[:,0],s=0.1)\n",
    "ax[1][3].set_xlabel('$\\kappa_S$ (mm$^{-2}$)')\n",
    "ax[1][3].set_xscale('log')\n",
    "\n",
    "ax[1][4].scatter(sp_16384.samples[:,9], sp_16384.results[:,0],s=0.1)\n",
    "ax[1][4].set_xlabel('$\\kappa_B$ (mm$^{-3}$)')\n",
    "ax[1][4].set_xscale('log')\n",
    "\n",
    "fig.supylabel('Bladder bacterial steady state (mm$^{-3}$)')\n",
    "plt.tight_layout()"
   ]
  },
  {
   "cell_type": "code",
   "execution_count": null,
   "metadata": {},
   "outputs": [],
   "source": [
    "plt.rcParams['figure.figsize'] = (8,5)\n",
    "fig,ax = plt.subplots(2,5, sharey=True)\n",
    "\n",
    "\n",
    "ax[0][0].scatter(sp_16384.samples[:,0], sp_16384.results[:,1],s=0.1)\n",
    "ax[0][0].set_xlabel('$L$ (mm)')\n",
    "\n",
    "ax[0][1].scatter(sp_16384.samples[:,1], sp_16384.results[:,1],s=0.1)\n",
    "ax[0][1].set_xlabel('$V$ (mm$^{3}$)')\n",
    "ax[0][1].ticklabel_format(style='sci', axis='x', scilimits=(0,0))\n",
    "\n",
    "ax[0][2].scatter(sp_16384.samples[:,2], sp_16384.results[:,1],s=0.1)\n",
    "ax[0][2].set_xlabel('$\\lambda$ (mm$^3$s$^{-1}$)')\n",
    "\n",
    "ax[0][3].scatter(sp_16384.samples[:,3], sp_16384.results[:,1],s=0.1)\n",
    "ax[0][3].set_xlabel('$R$ (mm)')\n",
    "\n",
    "ax[0][4].scatter(sp_16384.samples[:,4], sp_16384.results[:,1],s=0.1)\n",
    "ax[0][4].set_xlabel('$D_S$ (mm$^2$s$^{-1}$)')\n",
    "ax[0][4].set_xscale('log')\n",
    "\n",
    "ax[1][0].scatter(sp_16384.samples[:,5], sp_16384.results[:,1],s=0.1)\n",
    "ax[1][0].set_xlabel('$D_B$ (mm$^2$s$^{-1}$)')\n",
    "ax[1][0].set_xscale('log')\n",
    "\n",
    "ax[1][1].scatter(sp_16384.samples[:,6], sp_16384.results[:,1],s=0.1)\n",
    "ax[1][1].set_xlabel('$r_S$ (s$^{-1}$)')\n",
    "ax[1][1].set_xscale('log')\n",
    "\n",
    "ax[1][2].scatter(sp_16384.samples[:,7], sp_16384.results[:,1],s=0.1)\n",
    "ax[1][2].set_xlabel('$r_B$ (s$^{-1}$)')\n",
    "ax[1][2].set_xscale('log')\n",
    "\n",
    "ax[1][3].scatter(sp_16384.samples[:,8], sp_16384.results[:,1],s=0.1)\n",
    "ax[1][3].set_xlabel('$\\kappa_S$ (mm$^{-2}$)')\n",
    "ax[1][3].set_xscale('log')\n",
    "\n",
    "ax[1][4].scatter(sp_16384.samples[:,9], sp_16384.results[:,1],s=0.1)\n",
    "ax[1][4].set_xlabel('$\\kappa_B$ (mm$^{-3}$)')\n",
    "ax[1][4].set_xscale('log')\n",
    "\n",
    "fig.supylabel('Time to steady state (hrs)')\n",
    "plt.tight_layout()"
   ]
  },
  {
   "cell_type": "code",
   "execution_count": null,
   "metadata": {},
   "outputs": [],
   "source": [
    "sp_16384.heatmap('ss_bac')\n",
    "sp_16384.heatmap('time_b')\n"
   ]
  },
  {
   "cell_type": "code",
   "execution_count": null,
   "metadata": {},
   "outputs": [],
   "source": [
    "plt.rcParams['figure.figsize'] = (8,5)\n",
    "palette = sns.color_palette('deep', 10)\n",
    "fig,ax = plt.subplots(2,2,sharex=True, sharey='row')\n",
    "\n",
    "\n",
    "for i in range(10):\n",
    "    ax[0,0].errorbar(1024,sp_1024.analysis['ss_bac']['S1'][i],yerr=sp_1024.analysis['ss_bac']['S1_conf'][i], color=palette[i], label=problem['names'][i], fmt='.',capsize=2)\n",
    "    ax[0,0].errorbar(2048,sp_2048.analysis['ss_bac']['S1'][i],yerr=sp_2048.analysis['ss_bac']['S1_conf'][i], color=palette[i],fmt='.',capsize=2)\n",
    "    ax[0,0].errorbar(4096,sp_4096.analysis['ss_bac']['S1'][i],yerr=sp_4096.analysis['ss_bac']['S1_conf'][i], color=palette[i],fmt='.',capsize=2)\n",
    "    ax[0,0].errorbar(8192,sp_8192.analysis['ss_bac']['S1'][i],yerr=sp_8192.analysis['ss_bac']['S1_conf'][i], color=palette[i],fmt='.',capsize=2)\n",
    "    ax[0,0].errorbar(16384,sp_16384.analysis['ss_bac']['S1'][i],yerr=sp_16384.analysis['ss_bac']['S1_conf'][i], color=palette[i],fmt='.',capsize=2)\n",
    "    ax[1,0].errorbar(1024,sp_1024.analysis['ss_bac']['ST'][i],yerr=sp_1024.analysis['ss_bac']['ST_conf'][i], color=palette[i], fmt='.',capsize=2)\n",
    "    ax[1,0].errorbar(2048,sp_2048.analysis['ss_bac']['ST'][i],yerr=sp_2048.analysis['ss_bac']['ST_conf'][i], color=palette[i], fmt='.',capsize=2)\n",
    "    ax[1,0].errorbar(4096,sp_4096.analysis['ss_bac']['ST'][i],yerr=sp_4096.analysis['ss_bac']['ST_conf'][i], color=palette[i], fmt='.',capsize=2)\n",
    "    ax[1,0].errorbar(8192,sp_8192.analysis['ss_bac']['ST'][i],yerr=sp_8192.analysis['ss_bac']['ST_conf'][i], color=palette[i], fmt='.',capsize=2)\n",
    "    ax[1,0].errorbar(16384,sp_16384.analysis['ss_bac']['ST'][i],yerr=sp_16384.analysis['ss_bac']['ST_conf'][i], color=palette[i],fmt='.',capsize=2)\n",
    "    ax[0,1].errorbar(1024,sp_1024.analysis['time_b']['S1'][i],yerr=sp_1024.analysis['time_b']['S1_conf'][i], color=palette[i],fmt='.',capsize=2)\n",
    "    ax[0,1].errorbar(2048,sp_2048.analysis['time_b']['S1'][i],yerr=sp_2048.analysis['time_b']['S1_conf'][i], color=palette[i],fmt='.',capsize=2)\n",
    "    ax[0,1].errorbar(4096,sp_4096.analysis['time_b']['S1'][i],yerr=sp_4096.analysis['time_b']['S1_conf'][i], color=palette[i],fmt='.',capsize=2)\n",
    "    ax[0,1].errorbar(8192,sp_8192.analysis['time_b']['S1'][i],yerr=sp_8192.analysis['time_b']['S1_conf'][i], color=palette[i],fmt='.',capsize=2)\n",
    "    ax[0,1].errorbar(16384,sp_16384.analysis['time_b']['S1'][i],yerr=sp_16384.analysis['time_b']['S1_conf'][i], color=palette[i],fmt='.',capsize=2)\n",
    "    ax[1,1].errorbar(1024,sp_1024.analysis['time_b']['ST'][i],yerr=sp_1024.analysis['time_b']['ST_conf'][i], color=palette[i],fmt='.',capsize=2)\n",
    "    ax[1,1].errorbar(2048,sp_2048.analysis['time_b']['ST'][i],yerr=sp_2048.analysis['time_b']['ST_conf'][i], color=palette[i],fmt='.',capsize=2)\n",
    "    ax[1,1].errorbar(4096,sp_4096.analysis['time_b']['ST'][i],yerr=sp_4096.analysis['time_b']['ST_conf'][i], color=palette[i],fmt='.',capsize=2)\n",
    "    ax[1,1].errorbar(8192,sp_8192.analysis['time_b']['ST'][i],yerr=sp_8192.analysis['time_b']['ST_conf'][i], color=palette[i],fmt='.',capsize=2)\n",
    "    ax[1,1].errorbar(16384,sp_16384.analysis['time_b']['ST'][i],yerr=sp_16384.analysis['time_b']['ST_conf'][i], color=palette[i],fmt='.',capsize=2)\n",
    "\n",
    "ax[0][0].set_title('Bladder steady state density')\n",
    "ax[0][1].set_title('Time to bladder steady state')\n",
    "ax[0][0].set_ylabel('Main Sobol indices, $S_1$')\n",
    "ax[1][0].set_ylabel('Total Sobol indices, $S_T$')\n",
    "fig.supxlabel('Sobol sample number, $N$')\n",
    "\n",
    "\n",
    "ax[0][0].set_xscale('log')\n",
    "ax[0][0].locator_params(axis='y', nbins=5)\n",
    "ax[1][0].locator_params(axis='y', nbins=5)\n",
    "\n",
    "\n",
    "fig.legend(bbox_to_anchor=(1.0, 0.9))\n",
    "fig.tight_layout(rect=[0,0,0.9,1])\n",
    "plt.savefig('Sobol_indices.pdf')"
   ]
  },
  {
   "cell_type": "code",
   "execution_count": null,
   "metadata": {},
   "outputs": [],
   "source": []
  }
 ],
 "metadata": {
  "kernelspec": {
   "display_name": "sensitivity_env",
   "language": "python",
   "name": "python3"
  },
  "language_info": {
   "codemirror_mode": {
    "name": "ipython",
    "version": 3
   },
   "file_extension": ".py",
   "mimetype": "text/x-python",
   "name": "python",
   "nbconvert_exporter": "python",
   "pygments_lexer": "ipython3",
   "version": "3.11.9"
  }
 },
 "nbformat": 4,
 "nbformat_minor": 2
}
